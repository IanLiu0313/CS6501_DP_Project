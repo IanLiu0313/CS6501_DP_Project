{
  "nbformat": 4,
  "nbformat_minor": 0,
  "metadata": {
    "colab": {
      "provenance": [],
      "machine_shape": "hm"
    },
    "kernelspec": {
      "name": "python3",
      "display_name": "Python 3"
    },
    "language_info": {
      "name": "python"
    },
    "accelerator": "GPU",
    "gpuClass": "standard"
  },
  "cells": [
    {
      "cell_type": "code",
      "execution_count": 344,
      "metadata": {
        "colab": {
          "base_uri": "https://localhost:8080/",
          "height": 0
        },
        "id": "dNyEd3-Kvd4n",
        "outputId": "a596580b-504f-4416-9661-ff7c6bcda9f2"
      },
      "outputs": [
        {
          "output_type": "stream",
          "name": "stdout",
          "text": [
            "Drive already mounted at /content/drive; to attempt to forcibly remount, call drive.mount(\"/content/drive\", force_remount=True).\n"
          ]
        }
      ],
      "source": [
        "from google.colab import drive\n",
        "drive.mount('/content/drive')"
      ]
    },
    {
      "cell_type": "code",
      "source": [
        "#!pip install torchvision == 11.7"
      ],
      "metadata": {
        "id": "xvpJJVRzK1fm",
        "colab": {
          "base_uri": "https://localhost:8080/",
          "height": 0
        },
        "outputId": "075df0f0-ff77-4509-c56c-94dfa601d761"
      },
      "execution_count": 345,
      "outputs": [
        {
          "output_type": "stream",
          "name": "stdout",
          "text": [
            "Looking in indexes: https://pypi.org/simple, https://us-python.pkg.dev/colab-wheels/public/simple/\n",
            "Collecting pytorch\n",
            "  Using cached pytorch-1.0.2.tar.gz (689 bytes)\n",
            "Building wheels for collected packages: pytorch\n",
            "  Building wheel for pytorch (setup.py) ... \u001b[?25lerror\n",
            "\u001b[31m  ERROR: Failed building wheel for pytorch\u001b[0m\n",
            "\u001b[?25h  Running setup.py clean for pytorch\n",
            "Failed to build pytorch\n",
            "Installing collected packages: pytorch\n",
            "    Running setup.py install for pytorch ... \u001b[?25l\u001b[?25herror\n",
            "\u001b[31mERROR: Command errored out with exit status 1: /usr/bin/python3 -u -c 'import io, os, sys, setuptools, tokenize; sys.argv[0] = '\"'\"'/tmp/pip-install-ql5vy0da/pytorch_3d7f6601c3354cba8af221cb39622acb/setup.py'\"'\"'; __file__='\"'\"'/tmp/pip-install-ql5vy0da/pytorch_3d7f6601c3354cba8af221cb39622acb/setup.py'\"'\"';f = getattr(tokenize, '\"'\"'open'\"'\"', open)(__file__) if os.path.exists(__file__) else io.StringIO('\"'\"'from setuptools import setup; setup()'\"'\"');code = f.read().replace('\"'\"'\\r\\n'\"'\"', '\"'\"'\\n'\"'\"');f.close();exec(compile(code, __file__, '\"'\"'exec'\"'\"'))' install --record /tmp/pip-record-7m_4pmud/install-record.txt --single-version-externally-managed --compile --install-headers /usr/local/include/python3.8/pytorch Check the logs for full command output.\u001b[0m\n"
          ]
        }
      ]
    },
    {
      "cell_type": "code",
      "source": [
        "import torch\n",
        "\n",
        "from torchvision import datasets, transforms\n",
        "from torch.utils.data import Subset"
      ],
      "metadata": {
        "id": "CmfvAp2nvgQI"
      },
      "execution_count": 346,
      "outputs": []
    },
    {
      "cell_type": "code",
      "source": [
        "import numpy as np\n",
        "import pandas as pd\n",
        "import os\n",
        "from PIL import Image\n",
        "from sklearn.utils import shuffle\n",
        "from glob import glob\n",
        "from sklearn.model_selection import train_test_split"
      ],
      "metadata": {
        "id": "c27anGwcvhtQ"
      },
      "execution_count": 347,
      "outputs": []
    },
    {
      "cell_type": "code",
      "source": [
        "\n",
        "import torchvision.datasets as datasets\n",
        "import torchvision.transforms as transforms\n",
        "import torch.nn as nn\n",
        "import torch.nn.functional as F\n",
        "import torch.optim as optim\n",
        "import torch\n",
        "from torch.utils.data.sampler import SubsetRandomSampler\n",
        "import numpy as np\n",
        "from IPython.display import clear_output\n",
        "import itertools\n",
        "import numpy.ma as ma\n",
        "from threading import Thread\n",
        "from torch.utils.data.dataset import random_split\n"
      ],
      "metadata": {
        "id": "sll90Wq9XGCB"
      },
      "execution_count": 348,
      "outputs": []
    },
    {
      "cell_type": "code",
      "source": [
        "import os\n",
        "import cv2\n",
        "import pandas as pd\n",
        "from torchvision.io import read_image\n",
        "from torch.utils.data import Dataset\n",
        "\n",
        "class CustomImageDataset(Dataset):\n",
        "    def __init__(self, annotations_file, img_dir, transform=None, target_transform=None):\n",
        "        self.img_labels = pd.read_csv(annotations_file)\n",
        "        self.img_dir = img_dir\n",
        "        self.transform = transform\n",
        "        self.target_transform = target_transform\n",
        "\n",
        "    def __len__(self):\n",
        "        return len(self.img_labels)\n",
        "\n",
        "    def __getitem__(self, idx):\n",
        "        img_path = os.path.join(self.img_dir, self.img_labels.iloc[idx, 0])\n",
        "        image = cv2.imread(img_path)\n",
        "        image = cv2.cvtColor(image, cv2.COLOR_BGR2RGB)\n",
        "        label = self.img_labels.iloc[idx, 1]\n",
        "        if self.transform:\n",
        "            image = self.transform(image)\n",
        "        if self.target_transform:\n",
        "            label = self.target_transform(label)\n",
        "        return image, label"
      ],
      "metadata": {
        "id": "hCDk7NGWvww4"
      },
      "execution_count": 349,
      "outputs": []
    },
    {
      "cell_type": "code",
      "source": [
        "# dirs\n",
        "WORKING_DIR = '/content/drive/MyDrive/CS6501_DP/Project/'\n",
        "INPUT_DIR = '/content/drive/MyDrive/CS6501_DP/Project/input/'\n",
        "# WORKING_DIR = '/content/drive/MyDrive/Third Year/Data Privacy/Project'\n",
        "# INPUT_DIR = '/content/drive/MyDrive/Third Year/Data Privacy/Project/input'\n",
        "\n",
        "# classes\n",
        "imgClasses = ['Cardiomegaly', 'Emphysema', 'Effusion', \n",
        "              'Hernia', 'Infiltration', 'Mass', 'Nodule', \n",
        "              'Atelectasis','Pneumothorax','Pleural_Thickening', \n",
        "              'Pneumonia', 'Fibrosis', 'Edema', 'Consolidation',\n",
        "              'No Finding']"
      ],
      "metadata": {
        "id": "CpKjXhxnwydg"
      },
      "execution_count": 350,
      "outputs": []
    },
    {
      "cell_type": "code",
      "source": [
        "# import data\n",
        "os.chdir(INPUT_DIR)\n",
        "all_xray_df = pd.read_csv('sample_labels.csv')\n",
        "\n",
        "# obtain path to each image and add to dataframe\n",
        "# use glob module to intelligently parse all files\n",
        "# add to dictionary with key as filename\n",
        "all_image_paths = {os.path.basename(x): x for x in \n",
        "                   glob(os.path.join('data', 'images', '*.png'))}\n",
        "\n",
        "print('Scans found:', len(all_image_paths), ', Total Rows', all_xray_df.shape[0])\n",
        "\n",
        "all_xray_df['path'] = all_xray_df['Image Index'].map(all_image_paths.get)\n",
        "\n",
        "\n",
        "\n",
        "# this is multi-task, multi-class classification\n",
        "# rename null finding\n",
        "# split the string description \n",
        "all_xray_df['Finding Labels']  = all_xray_df['Finding Labels'].replace('No Finding', '')\n",
        "#all_labels = np.unique(list(chain(*all_xray_df['Finding Labels'].map(lambda x: x.split('|')).tolist())))\n",
        "all_labels = list({x for l in all_xray_df['Finding Labels'].str.split('|') for x in l})\n",
        "\n",
        "# obtain list of unique diseases\n",
        "all_labels = [x for x in all_labels if len(x) > 0]\n",
        "print('All Labels ({}): {}'.format(len(all_labels), all_labels))\n",
        "\n",
        "#perform one-hot encoding based on diseases extracted\n",
        "for c_label in all_labels:\n",
        "    if len(c_label)> 1: # leave out empty labels\n",
        "        all_xray_df[c_label] = all_xray_df['Finding Labels'].map(lambda finding: 1.0 if c_label in finding else 0)\n",
        "\n",
        "# drop unused columns\n",
        "all_xray_df = all_xray_df.drop(['OriginalImagePixelSpacing_x', 'OriginalImagePixelSpacing_y',\n",
        "                               'Finding Labels',\n",
        "                               'Follow-up #',\n",
        "                               'OriginalImageWidth','OriginalImageHeight'\n",
        "                               ], axis=1)\n"
      ],
      "metadata": {
        "colab": {
          "base_uri": "https://localhost:8080/",
          "height": 0
        },
        "id": "GcDgc2ZDzmIy",
        "outputId": "8219e183-4f6c-4974-80ad-7c9638f54ab2"
      },
      "execution_count": 351,
      "outputs": [
        {
          "output_type": "stream",
          "name": "stdout",
          "text": [
            "Scans found: 5606 , Total Rows 5606\n",
            "All Labels (14): ['Fibrosis', 'Pneumothorax', 'Edema', 'Pneumonia', 'Hernia', 'Mass', 'Atelectasis', 'Nodule', 'Pleural_Thickening', 'Cardiomegaly', 'Effusion', 'Emphysema', 'Consolidation', 'Infiltration']\n"
          ]
        }
      ]
    },
    {
      "cell_type": "code",
      "source": [
        "all_xray_df_sel = all_xray_df[['Image Index', 'Fibrosis', 'Pneumothorax', 'Atelectasis',\n",
        "       'Infiltration', 'Nodule', 'Pneumonia', 'Consolidation', 'Hernia',\n",
        "       'Emphysema', 'Pleural_Thickening', 'Effusion', 'Edema', 'Cardiomegaly',\n",
        "       'Mass']]"
      ],
      "metadata": {
        "id": "8aUQJ1441ShC"
      },
      "execution_count": 352,
      "outputs": []
    },
    {
      "cell_type": "code",
      "source": [
        "from sklearn.preprocessing import LabelEncoder"
      ],
      "metadata": {
        "id": "lJ-dWLholmJE"
      },
      "execution_count": 353,
      "outputs": []
    },
    {
      "cell_type": "code",
      "source": [
        "ls_codes = list()\n",
        "ls_save = list()\n",
        "for i in range(len(all_xray_df_sel)):\n",
        "  for disease_name in [ 'Fibrosis', 'Pneumothorax', 'Atelectasis', 'Infiltration', 'Nodule', 'Pneumonia', 'Consolidation', 'Hernia', 'Emphysema', 'Pleural_Thickening', 'Effusion', 'Edema', 'Cardiomegaly', 'Mass']:\n",
        "    code_per = all_xray_df_sel.loc[i, disease_name]\n",
        "    if code_per == 1:\n",
        "      ls_save.append([all_xray_df_sel.loc[i, 'Image Index'], disease_name])\n",
        "      # code_image = code_image + str(int(code_per))\n",
        "  \n",
        "#   ls_codes.append(code_image)\n",
        "# all_xray_df_sel['Code'] = ls_codes\n",
        "# all_xray_df_save = all_xray_df_sel[['Image Index', 'Code']]\n",
        "all_xray_df_save = pd.DataFrame(ls_save, columns=['Image Index', 'Code'])\n",
        "label_encode = LabelEncoder()\n",
        "all_xray_df_save['Code'] = label_encode.fit_transform(all_xray_df_save['Code'])"
      ],
      "metadata": {
        "id": "HYewT3ki1T6x"
      },
      "execution_count": 354,
      "outputs": []
    },
    {
      "cell_type": "code",
      "source": [
        "os.chdir(INPUT_DIR)\n",
        "all_xray_df_save.to_csv('sample_labels_reformat.csv', index=False)"
      ],
      "metadata": {
        "id": "Wr-mLPO55a2a"
      },
      "execution_count": 355,
      "outputs": []
    },
    {
      "cell_type": "code",
      "source": [
        "from sklearn.model_selection import train_test_split\n",
        "\n",
        "train, test = train_test_split(all_xray_df_save, test_size=0.2)\n",
        "train.to_csv('sample_labels_train.csv', index=False)\n",
        "test.to_csv('sample_labels_test.csv', index=False)"
      ],
      "metadata": {
        "id": "EPNiriCO6suy"
      },
      "execution_count": 356,
      "outputs": []
    },
    {
      "cell_type": "code",
      "source": [
        "train"
      ],
      "metadata": {
        "colab": {
          "base_uri": "https://localhost:8080/",
          "height": 424
        },
        "id": "jwhuc6Zxw9Rv",
        "outputId": "1e73095a-5909-462f-b10b-796f242d8ac0"
      },
      "execution_count": 357,
      "outputs": [
        {
          "output_type": "execute_result",
          "data": {
            "text/plain": [
              "           Image Index  Code\n",
              "1502  00011925_010.png     8\n",
              "2099  00015818_001.png     8\n",
              "479   00004156_002.png     4\n",
              "575   00004893_036.png     0\n",
              "2065  00015606_006.png     3\n",
              "...                ...   ...\n",
              "3775  00029174_003.png     8\n",
              "988   00008303_000.png    10\n",
              "1460  00011731_006.png     8\n",
              "377   00003186_005.png     8\n",
              "2615  00019271_058.png     0\n",
              "\n",
              "[3147 rows x 2 columns]"
            ],
            "text/html": [
              "\n",
              "  <div id=\"df-be6e9441-4b4a-467b-b1ca-033f50e9d393\">\n",
              "    <div class=\"colab-df-container\">\n",
              "      <div>\n",
              "<style scoped>\n",
              "    .dataframe tbody tr th:only-of-type {\n",
              "        vertical-align: middle;\n",
              "    }\n",
              "\n",
              "    .dataframe tbody tr th {\n",
              "        vertical-align: top;\n",
              "    }\n",
              "\n",
              "    .dataframe thead th {\n",
              "        text-align: right;\n",
              "    }\n",
              "</style>\n",
              "<table border=\"1\" class=\"dataframe\">\n",
              "  <thead>\n",
              "    <tr style=\"text-align: right;\">\n",
              "      <th></th>\n",
              "      <th>Image Index</th>\n",
              "      <th>Code</th>\n",
              "    </tr>\n",
              "  </thead>\n",
              "  <tbody>\n",
              "    <tr>\n",
              "      <th>1502</th>\n",
              "      <td>00011925_010.png</td>\n",
              "      <td>8</td>\n",
              "    </tr>\n",
              "    <tr>\n",
              "      <th>2099</th>\n",
              "      <td>00015818_001.png</td>\n",
              "      <td>8</td>\n",
              "    </tr>\n",
              "    <tr>\n",
              "      <th>479</th>\n",
              "      <td>00004156_002.png</td>\n",
              "      <td>4</td>\n",
              "    </tr>\n",
              "    <tr>\n",
              "      <th>575</th>\n",
              "      <td>00004893_036.png</td>\n",
              "      <td>0</td>\n",
              "    </tr>\n",
              "    <tr>\n",
              "      <th>2065</th>\n",
              "      <td>00015606_006.png</td>\n",
              "      <td>3</td>\n",
              "    </tr>\n",
              "    <tr>\n",
              "      <th>...</th>\n",
              "      <td>...</td>\n",
              "      <td>...</td>\n",
              "    </tr>\n",
              "    <tr>\n",
              "      <th>3775</th>\n",
              "      <td>00029174_003.png</td>\n",
              "      <td>8</td>\n",
              "    </tr>\n",
              "    <tr>\n",
              "      <th>988</th>\n",
              "      <td>00008303_000.png</td>\n",
              "      <td>10</td>\n",
              "    </tr>\n",
              "    <tr>\n",
              "      <th>1460</th>\n",
              "      <td>00011731_006.png</td>\n",
              "      <td>8</td>\n",
              "    </tr>\n",
              "    <tr>\n",
              "      <th>377</th>\n",
              "      <td>00003186_005.png</td>\n",
              "      <td>8</td>\n",
              "    </tr>\n",
              "    <tr>\n",
              "      <th>2615</th>\n",
              "      <td>00019271_058.png</td>\n",
              "      <td>0</td>\n",
              "    </tr>\n",
              "  </tbody>\n",
              "</table>\n",
              "<p>3147 rows × 2 columns</p>\n",
              "</div>\n",
              "      <button class=\"colab-df-convert\" onclick=\"convertToInteractive('df-be6e9441-4b4a-467b-b1ca-033f50e9d393')\"\n",
              "              title=\"Convert this dataframe to an interactive table.\"\n",
              "              style=\"display:none;\">\n",
              "        \n",
              "  <svg xmlns=\"http://www.w3.org/2000/svg\" height=\"24px\"viewBox=\"0 0 24 24\"\n",
              "       width=\"24px\">\n",
              "    <path d=\"M0 0h24v24H0V0z\" fill=\"none\"/>\n",
              "    <path d=\"M18.56 5.44l.94 2.06.94-2.06 2.06-.94-2.06-.94-.94-2.06-.94 2.06-2.06.94zm-11 1L8.5 8.5l.94-2.06 2.06-.94-2.06-.94L8.5 2.5l-.94 2.06-2.06.94zm10 10l.94 2.06.94-2.06 2.06-.94-2.06-.94-.94-2.06-.94 2.06-2.06.94z\"/><path d=\"M17.41 7.96l-1.37-1.37c-.4-.4-.92-.59-1.43-.59-.52 0-1.04.2-1.43.59L10.3 9.45l-7.72 7.72c-.78.78-.78 2.05 0 2.83L4 21.41c.39.39.9.59 1.41.59.51 0 1.02-.2 1.41-.59l7.78-7.78 2.81-2.81c.8-.78.8-2.07 0-2.86zM5.41 20L4 18.59l7.72-7.72 1.47 1.35L5.41 20z\"/>\n",
              "  </svg>\n",
              "      </button>\n",
              "      \n",
              "  <style>\n",
              "    .colab-df-container {\n",
              "      display:flex;\n",
              "      flex-wrap:wrap;\n",
              "      gap: 12px;\n",
              "    }\n",
              "\n",
              "    .colab-df-convert {\n",
              "      background-color: #E8F0FE;\n",
              "      border: none;\n",
              "      border-radius: 50%;\n",
              "      cursor: pointer;\n",
              "      display: none;\n",
              "      fill: #1967D2;\n",
              "      height: 32px;\n",
              "      padding: 0 0 0 0;\n",
              "      width: 32px;\n",
              "    }\n",
              "\n",
              "    .colab-df-convert:hover {\n",
              "      background-color: #E2EBFA;\n",
              "      box-shadow: 0px 1px 2px rgba(60, 64, 67, 0.3), 0px 1px 3px 1px rgba(60, 64, 67, 0.15);\n",
              "      fill: #174EA6;\n",
              "    }\n",
              "\n",
              "    [theme=dark] .colab-df-convert {\n",
              "      background-color: #3B4455;\n",
              "      fill: #D2E3FC;\n",
              "    }\n",
              "\n",
              "    [theme=dark] .colab-df-convert:hover {\n",
              "      background-color: #434B5C;\n",
              "      box-shadow: 0px 1px 3px 1px rgba(0, 0, 0, 0.15);\n",
              "      filter: drop-shadow(0px 1px 2px rgba(0, 0, 0, 0.3));\n",
              "      fill: #FFFFFF;\n",
              "    }\n",
              "  </style>\n",
              "\n",
              "      <script>\n",
              "        const buttonEl =\n",
              "          document.querySelector('#df-be6e9441-4b4a-467b-b1ca-033f50e9d393 button.colab-df-convert');\n",
              "        buttonEl.style.display =\n",
              "          google.colab.kernel.accessAllowed ? 'block' : 'none';\n",
              "\n",
              "        async function convertToInteractive(key) {\n",
              "          const element = document.querySelector('#df-be6e9441-4b4a-467b-b1ca-033f50e9d393');\n",
              "          const dataTable =\n",
              "            await google.colab.kernel.invokeFunction('convertToInteractive',\n",
              "                                                     [key], {});\n",
              "          if (!dataTable) return;\n",
              "\n",
              "          const docLinkHtml = 'Like what you see? Visit the ' +\n",
              "            '<a target=\"_blank\" href=https://colab.research.google.com/notebooks/data_table.ipynb>data table notebook</a>'\n",
              "            + ' to learn more about interactive tables.';\n",
              "          element.innerHTML = '';\n",
              "          dataTable['output_type'] = 'display_data';\n",
              "          await google.colab.output.renderOutput(dataTable, element);\n",
              "          const docLink = document.createElement('div');\n",
              "          docLink.innerHTML = docLinkHtml;\n",
              "          element.appendChild(docLink);\n",
              "        }\n",
              "      </script>\n",
              "    </div>\n",
              "  </div>\n",
              "  "
            ]
          },
          "metadata": {},
          "execution_count": 357
        }
      ]
    },
    {
      "cell_type": "code",
      "source": [
        "# transformations\n",
        "transformations = transforms.Compose([transforms.ToPILImage(), \n",
        "                                      transforms.Resize((32,32)), \n",
        "                                      transforms.ToTensor(),\n",
        "                                     transforms.Normalize([0.5], [0.5])])\n",
        "\n",
        "os.chdir(INPUT_DIR)\n",
        "image_dir = INPUT_DIR +'/data/images'\n",
        "train_data = CustomImageDataset(annotations_file='sample_labels_train.csv', img_dir=image_dir, transform=transformations)\n",
        "test_data = CustomImageDataset(annotations_file='sample_labels_test.csv', img_dir=image_dir, transform=transformations)"
      ],
      "metadata": {
        "id": "iRfXP6Ip7HuK"
      },
      "execution_count": 358,
      "outputs": []
    },
    {
      "cell_type": "code",
      "source": [
        "print('The shape of tensor for 50th image in train dataset: ',train_data[49][0].shape)"
      ],
      "metadata": {
        "colab": {
          "base_uri": "https://localhost:8080/",
          "height": 0
        },
        "id": "uykUIlOIDl8c",
        "outputId": "a27cdb07-4782-45c1-8258-d3f1d93686cb"
      },
      "execution_count": 359,
      "outputs": [
        {
          "output_type": "stream",
          "name": "stdout",
          "text": [
            "The shape of tensor for 50th image in train dataset:  torch.Size([3, 32, 32])\n"
          ]
        }
      ]
    },
    {
      "cell_type": "code",
      "source": [
        "\n",
        "# training and test data info\n",
        "print('num training data: {0}'.format(len(train_data)))\n",
        "print('num test data: {0}'.format(len(test_data)))"
      ],
      "metadata": {
        "colab": {
          "base_uri": "https://localhost:8080/",
          "height": 0
        },
        "id": "9l89l7dFWZ3V",
        "outputId": "4698a66e-603f-4322-95e1-3c951e4e943d"
      },
      "execution_count": 360,
      "outputs": [
        {
          "output_type": "stream",
          "name": "stdout",
          "text": [
            "num training data: 3147\n",
            "num test data: 787\n"
          ]
        }
      ]
    },
    {
      "cell_type": "code",
      "source": [
        "\n",
        "\n",
        "train_loader = torch.utils.data.DataLoader(train_data, batch_size=50, shuffle=True)\n",
        "test_loader = torch.utils.data.DataLoader(test_data, batch_size=50, shuffle=True)\n"
      ],
      "metadata": {
        "id": "xzuFmd93bVvg"
      },
      "execution_count": 361,
      "outputs": []
    },
    {
      "cell_type": "code",
      "source": [
        "from torch.utils.data import Subset\n",
        "num_teachers = 100\n",
        "\n",
        "teacher_loaders = []  #list of dataloaders\n",
        "\n",
        "# data_size = 35 # mnist_trainset/num_teachers\n",
        "data_size = 30 # mnist_trainset/num_teachers\n",
        "\n",
        "for i in range(num_teachers):\n",
        "    \n",
        "    indices = list(range(i*data_size, (i+1) *data_size)) #creating subsets of 600 data_size\n",
        "    subset_data = Subset(train_data, indices)\n",
        "    \n",
        "    loader = torch.utils.data.DataLoader(subset_data, batch_size=50, num_workers=2)\n",
        "    teacher_loaders.append(loader)"
      ],
      "metadata": {
        "id": "lTxWcmhnbVzu"
      },
      "execution_count": 362,
      "outputs": []
    },
    {
      "cell_type": "code",
      "source": [
        "device = torch.device(\"cuda:0\" if torch.cuda.is_available() else \"cpu\")\n",
        "print(\"Active device:\", device)"
      ],
      "metadata": {
        "colab": {
          "base_uri": "https://localhost:8080/",
          "height": 0
        },
        "id": "UDuwP9FNbV2O",
        "outputId": "c7991c92-e9d5-429e-9ae0-9e1ca245ff2a"
      },
      "execution_count": 363,
      "outputs": [
        {
          "output_type": "stream",
          "name": "stdout",
          "text": [
            "Active device: cuda:0\n"
          ]
        }
      ]
    },
    {
      "cell_type": "code",
      "source": [
        "%matplotlib inline\n",
        "%config InlineBackend.figure_format = 'retina'\n",
        "\n",
        "import matplotlib.pyplot as plt\n",
        "import numpy as np\n",
        "    \n",
        "# obtain one batch of training images\n",
        "dataiter = iter(train_loader)\n",
        "images, labels = next(dataiter)\n",
        "\n",
        "images = images.numpy()"
      ],
      "metadata": {
        "id": "mV97K4-qbV4h"
      },
      "execution_count": 364,
      "outputs": []
    },
    {
      "cell_type": "code",
      "source": [
        "\n",
        "# # plot the images in the batch, along with the corresponding labels\n",
        "# fig = plt.figure(figsize=(32, 4))\n",
        "# for idx in np.arange(20):\n",
        "#     ax = fig.add_subplot(2, 20/2, idx+1, xticks=[], yticks=[])\n",
        "#     ax.imshow(np.squeeze(images[idx]), cmap='gray')\n",
        "#     # print out the correct label for each image.item() gets the value contained in a Tensor\n",
        "#     ax.set_title(str(labels[idx].item()))"
      ],
      "metadata": {
        "id": "fpt73A6jjvDf"
      },
      "execution_count": 365,
      "outputs": []
    },
    {
      "cell_type": "code",
      "source": [
        "from torch import nn, optim\n",
        "import torch.nn.functional as F"
      ],
      "metadata": {
        "id": "90xxnYj-bV6y"
      },
      "execution_count": 366,
      "outputs": []
    },
    {
      "cell_type": "code",
      "source": [
        "\n",
        "class Classifier(nn.Module):\n",
        "\n",
        "    def __init__(self):\n",
        "        super().__init__()\n",
        "    \n",
        "        self.conv1 = nn.Conv2d(3, 10, kernel_size=5)\n",
        "        self.conv2 = nn.Conv2d(10, 20, kernel_size=5)\n",
        "        self.conv2_drop = nn.Dropout2d()\n",
        "        self.fc1 = nn.Linear(5*10*10, 50)\n",
        "        self.fc2 = nn.Linear(50, 14)\n",
        "    \n",
        "    def forward(self, x):\n",
        "        x = F.relu(F.max_pool2d(self.conv1(x), 2))\n",
        "        x = F.relu(F.max_pool2d(self.conv2_drop(self.conv2(x)), 2))\n",
        "        x = x.view(x.size(0), 5*10*10)\n",
        "        x = F.relu(self.fc1(x))\n",
        "        x = F.dropout(x, training=self.training)\n",
        "        x = self.fc2(x)\n",
        "        return F.log_softmax(x)"
      ],
      "metadata": {
        "id": "zGyl3UsphaHO"
      },
      "execution_count": 367,
      "outputs": []
    },
    {
      "cell_type": "code",
      "source": [
        "epochs = 10\n",
        "models = []\n",
        "for i in range(num_teachers):\n",
        "    model = Classifier()\n",
        "    model.to(device)\n",
        "    criterion = nn.NLLLoss()\n",
        "    optimizer = optim.Adam(model.parameters(), lr=0.0001)\n",
        "    running_loss = 0\n",
        "    teacher_loss = []\n",
        "    for e in range(epochs):\n",
        "        running_loss = 0\n",
        "        for images, labels in teacher_loaders[i]:\n",
        "            images, labels = images.to(device), labels.to(device)\n",
        "            optimizer.zero_grad()\n",
        "            log_ps = model(images)\n",
        "            loss = criterion(log_ps, labels)\n",
        "            loss.backward()\n",
        "            optimizer.step()\n",
        "            running_loss += loss.item()\n",
        "    teacher_loss.append(running_loss)\n",
        "    \n",
        "    print(\"Training teacher: {}/{}.. \".format(i+1, num_teachers), \"Training Loss: {:.3f}.. \".format(running_loss))\n",
        "    models.append(model)"
      ],
      "metadata": {
        "colab": {
          "base_uri": "https://localhost:8080/",
          "height": 0
        },
        "id": "K0BTgZnVhaJ1",
        "outputId": "e5baf0c8-f4a3-49ca-b8c3-1e02507acb73"
      },
      "execution_count": 368,
      "outputs": [
        {
          "output_type": "stream",
          "name": "stderr",
          "text": [
            "<ipython-input-367-1095ff33de73>:19: UserWarning: Implicit dimension choice for log_softmax has been deprecated. Change the call to include dim=X as an argument.\n",
            "  return F.log_softmax(x)\n"
          ]
        },
        {
          "output_type": "stream",
          "name": "stdout",
          "text": [
            "Training teacher: 1/100..  Training Loss: 2.627.. \n",
            "Training teacher: 2/100..  Training Loss: 2.629.. \n",
            "Training teacher: 3/100..  Training Loss: 2.614.. \n",
            "Training teacher: 4/100..  Training Loss: 2.645.. \n",
            "Training teacher: 5/100..  Training Loss: 2.628.. \n",
            "Training teacher: 6/100..  Training Loss: 2.606.. \n",
            "Training teacher: 7/100..  Training Loss: 2.670.. \n",
            "Training teacher: 8/100..  Training Loss: 2.612.. \n",
            "Training teacher: 9/100..  Training Loss: 2.644.. \n",
            "Training teacher: 10/100..  Training Loss: 2.659.. \n",
            "Training teacher: 11/100..  Training Loss: 2.650.. \n",
            "Training teacher: 12/100..  Training Loss: 2.648.. \n",
            "Training teacher: 13/100..  Training Loss: 2.618.. \n",
            "Training teacher: 14/100..  Training Loss: 2.621.. \n",
            "Training teacher: 15/100..  Training Loss: 2.635.. \n",
            "Training teacher: 16/100..  Training Loss: 2.635.. \n",
            "Training teacher: 17/100..  Training Loss: 2.634.. \n",
            "Training teacher: 18/100..  Training Loss: 2.636.. \n",
            "Training teacher: 19/100..  Training Loss: 2.643.. \n",
            "Training teacher: 20/100..  Training Loss: 2.643.. \n",
            "Training teacher: 21/100..  Training Loss: 2.665.. \n",
            "Training teacher: 22/100..  Training Loss: 2.648.. \n",
            "Training teacher: 23/100..  Training Loss: 2.689.. \n",
            "Training teacher: 24/100..  Training Loss: 2.620.. \n",
            "Training teacher: 25/100..  Training Loss: 2.625.. \n",
            "Training teacher: 26/100..  Training Loss: 2.613.. \n",
            "Training teacher: 27/100..  Training Loss: 2.620.. \n",
            "Training teacher: 28/100..  Training Loss: 2.570.. \n",
            "Training teacher: 29/100..  Training Loss: 2.633.. \n",
            "Training teacher: 30/100..  Training Loss: 2.591.. \n",
            "Training teacher: 31/100..  Training Loss: 2.624.. \n",
            "Training teacher: 32/100..  Training Loss: 2.661.. \n",
            "Training teacher: 33/100..  Training Loss: 2.604.. \n",
            "Training teacher: 34/100..  Training Loss: 2.619.. \n",
            "Training teacher: 35/100..  Training Loss: 2.630.. \n",
            "Training teacher: 36/100..  Training Loss: 2.670.. \n",
            "Training teacher: 37/100..  Training Loss: 2.591.. \n",
            "Training teacher: 38/100..  Training Loss: 2.593.. \n",
            "Training teacher: 39/100..  Training Loss: 2.631.. \n",
            "Training teacher: 40/100..  Training Loss: 2.640.. \n",
            "Training teacher: 41/100..  Training Loss: 2.630.. \n",
            "Training teacher: 42/100..  Training Loss: 2.592.. \n",
            "Training teacher: 43/100..  Training Loss: 2.603.. \n",
            "Training teacher: 44/100..  Training Loss: 2.643.. \n",
            "Training teacher: 45/100..  Training Loss: 2.596.. \n",
            "Training teacher: 46/100..  Training Loss: 2.622.. \n",
            "Training teacher: 47/100..  Training Loss: 2.594.. \n",
            "Training teacher: 48/100..  Training Loss: 2.628.. \n",
            "Training teacher: 49/100..  Training Loss: 2.596.. \n",
            "Training teacher: 50/100..  Training Loss: 2.547.. \n",
            "Training teacher: 51/100..  Training Loss: 2.610.. \n",
            "Training teacher: 52/100..  Training Loss: 2.667.. \n",
            "Training teacher: 53/100..  Training Loss: 2.573.. \n",
            "Training teacher: 54/100..  Training Loss: 2.648.. \n",
            "Training teacher: 55/100..  Training Loss: 2.667.. \n",
            "Training teacher: 56/100..  Training Loss: 2.626.. \n",
            "Training teacher: 57/100..  Training Loss: 2.630.. \n",
            "Training teacher: 58/100..  Training Loss: 2.640.. \n",
            "Training teacher: 59/100..  Training Loss: 2.624.. \n",
            "Training teacher: 60/100..  Training Loss: 2.628.. \n",
            "Training teacher: 61/100..  Training Loss: 2.633.. \n",
            "Training teacher: 62/100..  Training Loss: 2.638.. \n",
            "Training teacher: 63/100..  Training Loss: 2.649.. \n",
            "Training teacher: 64/100..  Training Loss: 2.639.. \n",
            "Training teacher: 65/100..  Training Loss: 2.595.. \n",
            "Training teacher: 66/100..  Training Loss: 2.655.. \n",
            "Training teacher: 67/100..  Training Loss: 2.605.. \n",
            "Training teacher: 68/100..  Training Loss: 2.605.. \n",
            "Training teacher: 69/100..  Training Loss: 2.636.. \n",
            "Training teacher: 70/100..  Training Loss: 2.637.. \n",
            "Training teacher: 71/100..  Training Loss: 2.650.. \n",
            "Training teacher: 72/100..  Training Loss: 2.564.. \n",
            "Training teacher: 73/100..  Training Loss: 2.695.. \n",
            "Training teacher: 74/100..  Training Loss: 2.577.. \n",
            "Training teacher: 75/100..  Training Loss: 2.595.. \n",
            "Training teacher: 76/100..  Training Loss: 2.631.. \n",
            "Training teacher: 77/100..  Training Loss: 2.608.. \n",
            "Training teacher: 78/100..  Training Loss: 2.592.. \n",
            "Training teacher: 79/100..  Training Loss: 2.607.. \n",
            "Training teacher: 80/100..  Training Loss: 2.587.. \n",
            "Training teacher: 81/100..  Training Loss: 2.577.. \n",
            "Training teacher: 82/100..  Training Loss: 2.617.. \n",
            "Training teacher: 83/100..  Training Loss: 2.648.. \n",
            "Training teacher: 84/100..  Training Loss: 2.628.. \n",
            "Training teacher: 85/100..  Training Loss: 2.602.. \n",
            "Training teacher: 86/100..  Training Loss: 2.637.. \n",
            "Training teacher: 87/100..  Training Loss: 2.658.. \n",
            "Training teacher: 88/100..  Training Loss: 2.628.. \n",
            "Training teacher: 89/100..  Training Loss: 2.623.. \n",
            "Training teacher: 90/100..  Training Loss: 2.640.. \n",
            "Training teacher: 91/100..  Training Loss: 2.640.. \n",
            "Training teacher: 92/100..  Training Loss: 2.664.. \n",
            "Training teacher: 93/100..  Training Loss: 2.645.. \n",
            "Training teacher: 94/100..  Training Loss: 2.585.. \n",
            "Training teacher: 95/100..  Training Loss: 2.631.. \n",
            "Training teacher: 96/100..  Training Loss: 2.635.. \n",
            "Training teacher: 97/100..  Training Loss: 2.609.. \n",
            "Training teacher: 98/100..  Training Loss: 2.678.. \n",
            "Training teacher: 99/100..  Training Loss: 2.608.. \n",
            "Training teacher: 100/100..  Training Loss: 2.637.. \n"
          ]
        }
      ]
    },
    {
      "cell_type": "code",
      "source": [
        "#Creating the public dataset\n",
        "student_traindata = Subset(test_data, list(range(600))) #90% of Test dat as train data\n",
        "student_testdata = Subset(test_data, list(range(600, 787))) #10% of Test data as test data"
      ],
      "metadata": {
        "id": "kq0rPr02haMP"
      },
      "execution_count": 369,
      "outputs": []
    },
    {
      "cell_type": "code",
      "source": [
        "#Creating student_loaders\n",
        "student_trainloader = torch.utils.data.DataLoader(student_traindata, batch_size=50, shuffle=True)\n",
        "student_testloader = torch.utils.data.DataLoader(student_testdata, batch_size=50, shuffle=True)"
      ],
      "metadata": {
        "id": "tQbe5f0WhaOL"
      },
      "execution_count": 370,
      "outputs": []
    },
    {
      "cell_type": "code",
      "source": [
        "def perdict(model, dataloader):\n",
        "    \"\"\"\n",
        "    Perdicts labels for a dataset\n",
        "    Input: model and dataloader\n",
        "    \"\"\"\n",
        "    outputs = torch.zeros(0, dtype=torch.long).to(device)\n",
        "    model.to(device)\n",
        "    model.eval()\n",
        "    for image, labels in dataloader:\n",
        "        image, labels = image.to(device), labels.to(device)  \n",
        "        output = model(image)\n",
        "        ps = torch.argmax(torch.exp(output), dim=1)\n",
        "        outputs = torch.cat((outputs, ps))\n",
        "    return outputs"
      ],
      "metadata": {
        "id": "tLbU0JnmhaQa"
      },
      "execution_count": 372,
      "outputs": []
    },
    {
      "cell_type": "code",
      "source": [
        "# Creating the Aggregated Teacher and Student labels by combining the predictions of Teacher models\n",
        "epsilon = 0.25\n",
        "preds = torch.zeros((len(models),600), dtype=torch.long)\n",
        "for i, model in enumerate(models):\n",
        "    results = perdict(model, student_trainloader)\n",
        "    preds[i] = results\n",
        "labels = np.array([]).astype(int)\n",
        "for image_preds in np.transpose(preds):  \n",
        "    label_counts = np.bincount(image_preds, minlength = 10)\n",
        "    beta = 1/ epsilon\n",
        "    for i in range(len(label_counts)):\n",
        "        label_counts[i] += np.random.laplace(0, beta, 1)\n",
        "    new_label = np.argmax(label_counts)\n",
        "    labels = np.append(labels, new_label)"
      ],
      "metadata": {
        "colab": {
          "base_uri": "https://localhost:8080/",
          "height": 0
        },
        "id": "tyLHD4AQhaS0",
        "outputId": "138c43a9-60c2-4b1b-f0ac-215d7319a7a9"
      },
      "execution_count": 374,
      "outputs": [
        {
          "output_type": "stream",
          "name": "stderr",
          "text": [
            "<ipython-input-367-1095ff33de73>:19: UserWarning: Implicit dimension choice for log_softmax has been deprecated. Change the call to include dim=X as an argument.\n",
            "  return F.log_softmax(x)\n"
          ]
        }
      ]
    },
    {
      "cell_type": "code",
      "source": [
        "student_labels = np.array(labels)\n",
        "preds = preds.numpy()"
      ],
      "metadata": {
        "id": "F-sVubDzhaU6"
      },
      "execution_count": 375,
      "outputs": []
    },
    {
      "cell_type": "code",
      "source": [
        "epochs = 50\n",
        "train_losses, test_losses = [], []\n",
        "model = Classifier()\n",
        "model.to(device)\n",
        "criterion = nn.NLLLoss()\n",
        "optimizer = optim.Adam(model.parameters(), lr=0.0001)\n",
        "running_loss = 0\n",
        "for e in range(epochs):\n",
        "    running_loss = 0\n",
        "    for images, labels in student_trainloader:\n",
        "        images, labels = images.to(device), labels.to(device)\n",
        "        optimizer.zero_grad()\n",
        "        log_ps = model(images)\n",
        "        loss = criterion(log_ps, labels)\n",
        "        loss.backward()\n",
        "        optimizer.step()\n",
        "        running_loss += loss.item()\n",
        "    else:\n",
        "        test_loss = 0\n",
        "        accuracy = 0\n",
        "        \n",
        "        with torch.no_grad():\n",
        "            for images, labels in student_testloader:\n",
        "                images, labels = images.to(device), labels.to(device)\n",
        "                log_ps = model(images)\n",
        "                test_loss += criterion(log_ps, labels)\n",
        "                \n",
        "                ps = torch.exp(log_ps)\n",
        "                top_p, top_class = ps.topk(1, dim=1)\n",
        "                equals = top_class == labels.view(*top_class.shape)\n",
        "                accuracy += torch.mean(equals.type(torch.FloatTensor))        \n",
        "        train_losses.append(running_loss/len(student_trainloader))\n",
        "        test_losses.append(test_loss/len(student_testloader))\n",
        "\n",
        "        print(\"Epoch: {}/{}.. \".format(e+1, epochs),\n",
        "              \"Training Loss: {:.3f}.. \".format(running_loss/len(student_trainloader)),\n",
        "              \"Test Loss: {:.3f}.. \".format(test_loss/len(student_testloader)),\n",
        "              \"Test Accuracy: {:.3f}\".format(accuracy/len(student_testloader)))\n",
        "    "
      ],
      "metadata": {
        "colab": {
          "base_uri": "https://localhost:8080/",
          "height": 0
        },
        "id": "9wYOIjWghaXP",
        "outputId": "7e00e457-0984-475d-a7b4-18133c96f863"
      },
      "execution_count": 376,
      "outputs": [
        {
          "output_type": "stream",
          "name": "stderr",
          "text": [
            "<ipython-input-367-1095ff33de73>:19: UserWarning: Implicit dimension choice for log_softmax has been deprecated. Change the call to include dim=X as an argument.\n",
            "  return F.log_softmax(x)\n"
          ]
        },
        {
          "output_type": "stream",
          "name": "stdout",
          "text": [
            "Epoch: 1/50..  Training Loss: 2.647..  Test Loss: 2.638..  Test Accuracy: 0.050\n",
            "Epoch: 2/50..  Training Loss: 2.637..  Test Loss: 2.629..  Test Accuracy: 0.047\n",
            "Epoch: 3/50..  Training Loss: 2.625..  Test Loss: 2.609..  Test Accuracy: 0.122\n",
            "Epoch: 4/50..  Training Loss: 2.608..  Test Loss: 2.592..  Test Accuracy: 0.197\n",
            "Epoch: 5/50..  Training Loss: 2.582..  Test Loss: 2.550..  Test Accuracy: 0.227\n",
            "Epoch: 6/50..  Training Loss: 2.546..  Test Loss: 2.522..  Test Accuracy: 0.236\n",
            "Epoch: 7/50..  Training Loss: 2.511..  Test Loss: 2.478..  Test Accuracy: 0.223\n",
            "Epoch: 8/50..  Training Loss: 2.485..  Test Loss: 2.458..  Test Accuracy: 0.234\n",
            "Epoch: 9/50..  Training Loss: 2.451..  Test Loss: 2.416..  Test Accuracy: 0.258\n",
            "Epoch: 10/50..  Training Loss: 2.451..  Test Loss: 2.417..  Test Accuracy: 0.268\n",
            "Epoch: 11/50..  Training Loss: 2.463..  Test Loss: 2.380..  Test Accuracy: 0.238\n",
            "Epoch: 12/50..  Training Loss: 2.423..  Test Loss: 2.399..  Test Accuracy: 0.226\n",
            "Epoch: 13/50..  Training Loss: 2.421..  Test Loss: 2.417..  Test Accuracy: 0.246\n",
            "Epoch: 14/50..  Training Loss: 2.434..  Test Loss: 2.373..  Test Accuracy: 0.221\n",
            "Epoch: 15/50..  Training Loss: 2.426..  Test Loss: 2.403..  Test Accuracy: 0.206\n",
            "Epoch: 16/50..  Training Loss: 2.427..  Test Loss: 2.407..  Test Accuracy: 0.239\n",
            "Epoch: 17/50..  Training Loss: 2.411..  Test Loss: 2.428..  Test Accuracy: 0.229\n",
            "Epoch: 18/50..  Training Loss: 2.415..  Test Loss: 2.390..  Test Accuracy: 0.253\n",
            "Epoch: 19/50..  Training Loss: 2.398..  Test Loss: 2.374..  Test Accuracy: 0.237\n",
            "Epoch: 20/50..  Training Loss: 2.421..  Test Loss: 2.419..  Test Accuracy: 0.236\n",
            "Epoch: 21/50..  Training Loss: 2.408..  Test Loss: 2.436..  Test Accuracy: 0.182\n",
            "Epoch: 22/50..  Training Loss: 2.431..  Test Loss: 2.404..  Test Accuracy: 0.234\n",
            "Epoch: 23/50..  Training Loss: 2.400..  Test Loss: 2.415..  Test Accuracy: 0.209\n",
            "Epoch: 24/50..  Training Loss: 2.415..  Test Loss: 2.454..  Test Accuracy: 0.224\n",
            "Epoch: 25/50..  Training Loss: 2.409..  Test Loss: 2.405..  Test Accuracy: 0.209\n",
            "Epoch: 26/50..  Training Loss: 2.396..  Test Loss: 2.430..  Test Accuracy: 0.181\n",
            "Epoch: 27/50..  Training Loss: 2.379..  Test Loss: 2.372..  Test Accuracy: 0.259\n",
            "Epoch: 28/50..  Training Loss: 2.377..  Test Loss: 2.351..  Test Accuracy: 0.258\n",
            "Epoch: 29/50..  Training Loss: 2.371..  Test Loss: 2.409..  Test Accuracy: 0.241\n",
            "Epoch: 30/50..  Training Loss: 2.388..  Test Loss: 2.400..  Test Accuracy: 0.209\n",
            "Epoch: 31/50..  Training Loss: 2.405..  Test Loss: 2.368..  Test Accuracy: 0.241\n",
            "Epoch: 32/50..  Training Loss: 2.345..  Test Loss: 2.417..  Test Accuracy: 0.214\n",
            "Epoch: 33/50..  Training Loss: 2.393..  Test Loss: 2.381..  Test Accuracy: 0.239\n",
            "Epoch: 34/50..  Training Loss: 2.369..  Test Loss: 2.412..  Test Accuracy: 0.221\n",
            "Epoch: 35/50..  Training Loss: 2.380..  Test Loss: 2.388..  Test Accuracy: 0.249\n",
            "Epoch: 36/50..  Training Loss: 2.419..  Test Loss: 2.364..  Test Accuracy: 0.233\n",
            "Epoch: 37/50..  Training Loss: 2.383..  Test Loss: 2.408..  Test Accuracy: 0.227\n",
            "Epoch: 38/50..  Training Loss: 2.391..  Test Loss: 2.429..  Test Accuracy: 0.207\n",
            "Epoch: 39/50..  Training Loss: 2.382..  Test Loss: 2.402..  Test Accuracy: 0.218\n",
            "Epoch: 40/50..  Training Loss: 2.383..  Test Loss: 2.383..  Test Accuracy: 0.246\n",
            "Epoch: 41/50..  Training Loss: 2.378..  Test Loss: 2.394..  Test Accuracy: 0.273\n",
            "Epoch: 42/50..  Training Loss: 2.378..  Test Loss: 2.392..  Test Accuracy: 0.251\n",
            "Epoch: 43/50..  Training Loss: 2.371..  Test Loss: 2.396..  Test Accuracy: 0.236\n",
            "Epoch: 44/50..  Training Loss: 2.387..  Test Loss: 2.366..  Test Accuracy: 0.231\n",
            "Epoch: 45/50..  Training Loss: 2.372..  Test Loss: 2.427..  Test Accuracy: 0.221\n",
            "Epoch: 46/50..  Training Loss: 2.383..  Test Loss: 2.371..  Test Accuracy: 0.237\n",
            "Epoch: 47/50..  Training Loss: 2.366..  Test Loss: 2.383..  Test Accuracy: 0.253\n",
            "Epoch: 48/50..  Training Loss: 2.378..  Test Loss: 2.413..  Test Accuracy: 0.238\n",
            "Epoch: 49/50..  Training Loss: 2.366..  Test Loss: 2.417..  Test Accuracy: 0.239\n",
            "Epoch: 50/50..  Training Loss: 2.370..  Test Loss: 2.414..  Test Accuracy: 0.232\n"
          ]
        }
      ]
    },
    {
      "cell_type": "code",
      "source": [
        "plt.plot(train_losses, label='Training loss')\n",
        "#plt.plot(test_losses, label='Validation loss')\n",
        "plt.legend(frameon=False)"
      ],
      "metadata": {
        "colab": {
          "base_uri": "https://localhost:8080/",
          "height": 282
        },
        "id": "QKYRLQ93haZH",
        "outputId": "558cfc30-33ab-439b-e6ce-7f8df667bd06"
      },
      "execution_count": 378,
      "outputs": [
        {
          "output_type": "execute_result",
          "data": {
            "text/plain": [
              "<matplotlib.legend.Legend at 0x7f41ba2a2670>"
            ]
          },
          "metadata": {},
          "execution_count": 378
        },
        {
          "output_type": "display_data",
          "data": {
            "text/plain": [
              "<Figure size 432x288 with 1 Axes>"
            ],
            "image/png": "[encoded data removed]"
          },
          "metadata": {
            "image/png": {
              "width": 378,
              "height": 248
            },
            "needs_background": "light"
          }
        }
      ]
    },
    {
      "cell_type": "code",
      "source": [
        "#plt.plot(test_losses, label='Validation loss')\n"
      ],
      "metadata": {
        "colab": {
          "base_uri": "https://localhost:8080/",
          "height": 0
        },
        "id": "C_3rdhcH4qVQ",
        "outputId": "1ba22cf4-8e62-4c5a-dfab-05b4f80a5a11"
      },
      "execution_count": 398,
      "outputs": [
        {
          "output_type": "execute_result",
          "data": {
            "text/plain": [
              "()"
            ]
          },
          "metadata": {},
          "execution_count": 398
        }
      ]
    },
    {
      "cell_type": "code",
      "source": [
        "test_losses_1 = test_losses.copy()\n",
        "test_losses_1"
      ],
      "metadata": {
        "colab": {
          "base_uri": "https://localhost:8080/",
          "height": 0
        },
        "id": "BYiz1ijy19qW",
        "outputId": "6a516569-58c6-415c-93fb-7b4e5eb7ea6d"
      },
      "execution_count": 389,
      "outputs": [
        {
          "output_type": "execute_result",
          "data": {
            "text/plain": [
              "[tensor(2.6381, device='cuda:0'),\n",
              " tensor(2.6290, device='cuda:0'),\n",
              " tensor(2.6085, device='cuda:0'),\n",
              " tensor(2.5917, device='cuda:0'),\n",
              " tensor(2.5501, device='cuda:0'),\n",
              " tensor(2.5220, device='cuda:0'),\n",
              " tensor(2.4781, device='cuda:0'),\n",
              " tensor(2.4578, device='cuda:0'),\n",
              " tensor(2.4163, device='cuda:0'),\n",
              " tensor(2.4167, device='cuda:0'),\n",
              " tensor(2.3801, device='cuda:0'),\n",
              " tensor(2.3991, device='cuda:0'),\n",
              " tensor(2.4171, device='cuda:0'),\n",
              " tensor(2.3728, device='cuda:0'),\n",
              " tensor(2.4030, device='cuda:0'),\n",
              " tensor(2.4071, device='cuda:0'),\n",
              " tensor(2.4277, device='cuda:0'),\n",
              " tensor(2.3900, device='cuda:0'),\n",
              " tensor(2.3737, device='cuda:0'),\n",
              " tensor(2.4185, device='cuda:0'),\n",
              " tensor(2.4361, device='cuda:0'),\n",
              " tensor(2.4042, device='cuda:0'),\n",
              " tensor(2.4148, device='cuda:0'),\n",
              " tensor(2.4536, device='cuda:0'),\n",
              " tensor(2.4050, device='cuda:0'),\n",
              " tensor(2.4301, device='cuda:0'),\n",
              " tensor(2.3723, device='cuda:0'),\n",
              " tensor(2.3510, device='cuda:0'),\n",
              " tensor(2.4092, device='cuda:0'),\n",
              " tensor(2.3997, device='cuda:0'),\n",
              " tensor(2.3684, device='cuda:0'),\n",
              " tensor(2.4166, device='cuda:0'),\n",
              " tensor(2.3813, device='cuda:0'),\n",
              " tensor(2.4120, device='cuda:0'),\n",
              " tensor(2.3884, device='cuda:0'),\n",
              " tensor(2.3644, device='cuda:0'),\n",
              " tensor(2.4080, device='cuda:0'),\n",
              " tensor(2.4286, device='cuda:0'),\n",
              " tensor(2.4020, device='cuda:0'),\n",
              " tensor(2.3826, device='cuda:0'),\n",
              " tensor(2.3939, device='cuda:0'),\n",
              " tensor(2.3923, device='cuda:0'),\n",
              " tensor(2.3961, device='cuda:0'),\n",
              " tensor(2.3655, device='cuda:0'),\n",
              " tensor(2.4266, device='cuda:0'),\n",
              " tensor(2.3706, device='cuda:0'),\n",
              " tensor(2.3832, device='cuda:0'),\n",
              " tensor(2.4132, device='cuda:0'),\n",
              " tensor(2.4171, device='cuda:0'),\n",
              " tensor(2.4139, device='cuda:0')]"
            ]
          },
          "metadata": {},
          "execution_count": 389
        }
      ]
    },
    {
      "cell_type": "code",
      "source": [
        "print(\"Accuracy obtained: {:.3f}%\".format(accuracy/len(student_testloader)*100))\n"
      ],
      "metadata": {
        "colab": {
          "base_uri": "https://localhost:8080/",
          "height": 0
        },
        "id": "2RzU5Iuxhad3",
        "outputId": "9fd00b21-b9f4-485a-c94f-79d4451c3732"
      },
      "execution_count": 380,
      "outputs": [
        {
          "output_type": "stream",
          "name": "stdout",
          "text": [
            "Accuracy obtained: 23.230%\n"
          ]
        }
      ]
    },
    {
      "cell_type": "code",
      "source": [
        "# Copyright 2016 The TensorFlow Authors. All Rights Reserved.\n",
        "#\n",
        "# Licensed under the Apache License, Version 2.0 (the \"License\");\n",
        "# you may not use this file except in compliance with the License.\n",
        "# You may obtain a copy of the License at\n",
        "#\n",
        "#     http://www.apache.org/licenses/LICENSE-2.0\n",
        "#\n",
        "# Unless required by applicable law or agreed to in writing, software\n",
        "# distributed under the License is distributed on an \"AS IS\" BASIS,\n",
        "# WITHOUT WARRANTIES OR CONDITIONS OF ANY KIND, either express or implied.\n",
        "# See the License for the specific language governing permissions and\n",
        "# limitations under the License.\n",
        "# ==============================================================================\n",
        "\n",
        "# ==============================================================================\n",
        "# Modifications copyright (C) 2020 OpenMined\n",
        "#\n",
        "# Added type hints to functions\n",
        "# Added moment values to print statements when calculating sensitivity\n",
        "# ==============================================================================\n",
        "\n",
        "\n",
        "\"\"\"\n",
        "This script computes bounds on the privacy cost of training the\n",
        "student model from noisy aggregation of labels predicted by teachers.\n",
        "It should be used only after training the student (and therefore the\n",
        "teachers as well). We however include the label files required to\n",
        "reproduce key results from our paper (https://arxiv.org/abs/1610.05755):\n",
        "the epsilon bounds for MNIST and SVHN students.\n",
        "\"\"\"\n",
        "import math\n",
        "from typing import List, Tuple, Union\n",
        "\n",
        "import numpy as np\n",
        "import torch\n",
        "\n",
        "\n",
        "def compute_q_noisy_max(counts: Union[np.ndarray, List[float]], noise_eps: float) -> float:\n",
        "    \"\"\"\n",
        "    Returns ~ Pr[outcome != winner].\n",
        "    Args:\n",
        "        counts: a list of scores\n",
        "        noise_eps: privacy parameter for noisy_max\n",
        "    Returns:\n",
        "        q: the probability that outcome is different from true winner.\n",
        "    \"\"\"\n",
        "    # For noisy max, we only get an upper bound.\n",
        "    # Pr[ j beats i*] \\leq (2+gap(j,i*))/ 4 exp(gap(j,i*)\n",
        "    # proof at http://mathoverflow.net/questions/66763/\n",
        "    # tight-bounds-on-probability-of-sum-of-laplace-random-variables\n",
        "\n",
        "    winner = np.argmax(counts)\n",
        "    counts_normalized = noise_eps * (counts - counts[winner])\n",
        "\n",
        "    counts_rest = np.array([counts_normalized[i] for i in range(len(counts)) if i != winner])\n",
        "    q = 0.0\n",
        "\n",
        "    for c in counts_rest:\n",
        "        gap = -c\n",
        "        q += (gap + 2.0) / (4.0 * math.exp(gap))\n",
        "\n",
        "    return min(q, 1.0 - (1.0 / len(counts)))\n",
        "\n",
        "\n",
        "def compute_q_noisy_max_approx(counts: List[float], noise_eps: float) -> float:\n",
        "    \"\"\"\n",
        "    Returns ~ Pr[outcome != winner].\n",
        "    Args:\n",
        "        counts: a list of scores\n",
        "        noise_eps: privacy parameter for noisy_max\n",
        "    Returns:\n",
        "        q: the probability that outcome is different from true winner.\n",
        "    \"\"\"\n",
        "    # For noisy max, we only get an upper bound.\n",
        "    # Pr[ j beats i*] \\leq (2+gap(j,i*))/ 4 exp(gap(j,i*)\n",
        "    # proof at http://mathoverflow.net/questions/66763/\n",
        "    # tight-bounds-on-probability-of-sum-of-laplace-random-variables\n",
        "    # This code uses an approximation that is faster and easier\n",
        "    # to get local sensitivity bound on.\n",
        "\n",
        "    winner = np.argmax(counts)\n",
        "    counts_normalized = noise_eps * (counts - counts[winner])\n",
        "    counts_rest = np.array([counts_normalized[i] for i in range(len(counts)) if i != winner])\n",
        "    gap = -max(counts_rest)\n",
        "    q = (len(counts) - 1) * (gap + 2.0) / (4.0 * math.exp(gap))\n",
        "    return min(q, 1.0 - (1.0 / len(counts)))\n",
        "\n",
        "\n",
        "def logmgf_exact(q: float, priv_eps: float, l: int) -> float:\n",
        "    \"\"\"\n",
        "    Computes the logmgf value given q and privacy eps.\n",
        "    The bound used is the min of three terms. The first term is from\n",
        "    https://arxiv.org/pdf/1605.02065.pdf.\n",
        "    The second term is based on the fact that when event has probability (1-q) for\n",
        "    q close to zero, q can only change by exp(eps), which corresponds to a\n",
        "    much smaller multiplicative change in (1-q)\n",
        "    The third term comes directly from the privacy guarantee.\n",
        "    Args:\n",
        "        q: pr of non-optimal outcome\n",
        "        priv_eps: eps parameter for DP\n",
        "        l: moment to compute.\n",
        "    Returns:\n",
        "        Upper bound on logmgf\n",
        "    \"\"\"\n",
        "    if q < 0.5:\n",
        "        t_one = (1 - q) * math.pow((1 - q) / (1 - math.exp(priv_eps) * q), l)\n",
        "        t_two = q * math.exp(priv_eps * l)\n",
        "        t = t_one + t_two\n",
        "        try:\n",
        "            log_t = math.log(t)\n",
        "        except ValueError:\n",
        "            print(\"Got ValueError in math.log for values :\" + str((q, priv_eps, l, t)))\n",
        "            log_t = priv_eps * l\n",
        "    else:\n",
        "        log_t = priv_eps * l\n",
        "\n",
        "    return min(0.5 * priv_eps * priv_eps * l * (l + 1), log_t, priv_eps * l)\n",
        "\n",
        "\n",
        "def logmgf_from_counts(counts: Union[np.ndarray, List[float]], noise_eps: float, l: int) -> float:\n",
        "    \"\"\"\n",
        "    ReportNoisyMax mechanism with noise_eps with 2*noise_eps-DP\n",
        "    in our setting where one count can go up by one and another\n",
        "    can go down by 1.\n",
        "    Args:\n",
        "        counts: an array of scores\n",
        "        noise_eps: noise epsilon used\n",
        "        l: moment to compute\n",
        "    Returns:\n",
        "        q: Upper bound on logmgf\n",
        "    \"\"\"\n",
        "    q = compute_q_noisy_max(counts, noise_eps)\n",
        "    return logmgf_exact(q, 2.0 * noise_eps, l)\n",
        "\n",
        "\n",
        "def sens_at_k(counts: np.ndarray, noise_eps: float, l: int, k: float) -> float:\n",
        "    \"\"\"\n",
        "    Return sensitivity at distance k.\n",
        "    Args:\n",
        "        counts: an array of scores\n",
        "        noise_eps: noise parameter used\n",
        "        l: moment whose sensitivity is being computed\n",
        "        k: distance\n",
        "    Returns:\n",
        "        sensitivity: at distance k\n",
        "    \"\"\"\n",
        "    counts_sorted = sorted(counts, reverse=True)\n",
        "\n",
        "    if 0.5 * noise_eps * l > 1:\n",
        "        print(f\"l of {l} too large to compute sensitivity with noise epsilon {noise_eps}\")\n",
        "        return 0\n",
        "\n",
        "    # Now we can assume that at k, gap remains positive\n",
        "    # or we have reached the point where logmgf_exact is\n",
        "    # determined by the first term and ind of q.\n",
        "    if counts[0] < counts[1] + k:\n",
        "        return 0\n",
        "\n",
        "    counts_sorted[0] -= k\n",
        "    counts_sorted[1] += k\n",
        "    val = logmgf_from_counts(counts_sorted, noise_eps, l)\n",
        "\n",
        "    counts_sorted[0] -= 1\n",
        "    counts_sorted[1] += 1\n",
        "    val_changed = logmgf_from_counts(counts_sorted, noise_eps, l)\n",
        "\n",
        "    return val_changed - val\n",
        "\n",
        "\n",
        "def smoothed_sens(counts: np.ndarray, noise_eps: float, l: int, beta: float) -> float:\n",
        "    \"\"\"\n",
        "    Compute beta-smooth sensitivity.\n",
        "    Args:\n",
        "        counts: array of scores\n",
        "        noise_eps: noise parameter\n",
        "        l: moment of interest\n",
        "        beta: smoothness parameter\n",
        "    Returns:\n",
        "        smooth_sensitivity: a beta smooth upper bound\n",
        "    \"\"\"\n",
        "    k = 0\n",
        "    smoothed_sensitivity = sens_at_k(counts, noise_eps, l, k)\n",
        "\n",
        "    while k < max(counts):\n",
        "        k += 1\n",
        "        sensitivity_at_k = sens_at_k(counts, noise_eps, l, k)\n",
        "        smoothed_sensitivity = max(smoothed_sensitivity, math.exp(-beta * k) * sensitivity_at_k)\n",
        "\n",
        "        if sensitivity_at_k == 0.0:\n",
        "            break\n",
        "\n",
        "    return smoothed_sensitivity\n",
        "\n",
        "\n",
        "def perform_analysis(\n",
        "    teacher_preds: np.ndarray,\n",
        "    indices: np.ndarray,\n",
        "    noise_eps: float,\n",
        "    delta: float = 1e-5,\n",
        "    moments: int = 8,\n",
        "    beta: float = 0.09,\n",
        ") -> Tuple[float, float]:\n",
        "    \"\"\"\n",
        "    Performs PATE analysis on predictions from teachers and combined predictions for student.\n",
        "    Args:\n",
        "        teacher_preds: a numpy array of dim (num_teachers x num_examples). Each value corresponds\n",
        "            to the index of the label which a teacher gave for a specific example\n",
        "        indices: a numpy array of dim (num_examples) of aggregated examples which were aggregated\n",
        "            using the noisy max mechanism.\n",
        "        noise_eps: the epsilon level used to create the indices\n",
        "        delta: the desired level of delta\n",
        "        moments: the number of moments to track (see the paper)\n",
        "        beta: a smoothing parameter (see the paper)\n",
        "    Returns:\n",
        "        tuple: first value is the data dependent epsilon, then the data independent epsilon\n",
        "    \"\"\"\n",
        "    num_teachers, num_examples = teacher_preds.shape\n",
        "    _num_examples = indices.shape[0]\n",
        "    labels = set(teacher_preds.flatten())\n",
        "    num_labels = len(labels)\n",
        "\n",
        "    if num_examples != _num_examples:\n",
        "        raise ValueError(\"Check the shape of teacher_preds & indices.\")\n",
        "\n",
        "    counts_mat = np.zeros((num_examples, num_labels))\n",
        "\n",
        "    for i in range(num_examples):\n",
        "        for j in range(num_teachers):\n",
        "            counts_mat[i, int(teacher_preds[j, i])] += 1\n",
        "\n",
        "    l_list = 1.0 + np.array(range(moments))\n",
        "\n",
        "    total_log_mgf_nm = np.array([0.0 for _ in l_list])\n",
        "    total_ss_nm = np.array([0.0 for _ in l_list])\n",
        "\n",
        "    for i in indices:\n",
        "        total_log_mgf_nm += np.array(\n",
        "            [logmgf_from_counts(counts_mat[i], noise_eps, l) for l in l_list]\n",
        "        )\n",
        "\n",
        "        total_ss_nm += np.array([smoothed_sens(counts_mat[i], noise_eps, l, beta) for l in l_list])\n",
        "\n",
        "    # We want delta = exp(alpha - eps l).\n",
        "    # Solving gives eps = (alpha - ln (delta))/l\n",
        "\n",
        "    eps_list_nm = (total_log_mgf_nm - math.log(delta)) / l_list\n",
        "\n",
        "    # If beta < eps / 2 ln (1/delta), then adding noise Lap(1) * 2 SS/eps\n",
        "    # is eps,delta DP\n",
        "    # Also if beta < eps / 2(gamma +1), then adding noise 2(gamma+1) SS eta / eps\n",
        "    # where eta has density proportional to 1 / (1+|z|^gamma) is eps-DP\n",
        "    # Both from Corolloary 2.4 in\n",
        "    # http://www.cse.psu.edu/~ads22/pubs/NRS07/NRS07-full-draft-v1.pdf\n",
        "    # Print the first one's scale\n",
        "\n",
        "    ss_eps = 2.0 * beta * math.log(1 / delta)\n",
        "\n",
        "    if min(eps_list_nm) == eps_list_nm[-1]:\n",
        "        print(\n",
        "            \"Warning: May not have used enough values of l. Increase 'moments' variable and \"\n",
        "            \"run again.\"\n",
        "        )\n",
        "\n",
        "    # Data independent bound, as mechanism is\n",
        "    # 2*noise_eps DP.\n",
        "    data_ind_log_mgf = np.array([0.0 for _ in l_list])\n",
        "    data_ind_log_mgf += num_examples * np.array(\n",
        "        [logmgf_exact(1.0, 2.0 * noise_eps, l) for l in l_list]\n",
        "    )\n",
        "\n",
        "    data_ind_eps_list = (data_ind_log_mgf - math.log(delta)) / l_list\n",
        "\n",
        "    return min(eps_list_nm), min(data_ind_eps_list)\n",
        "\n",
        "\n",
        "def tensors_to_literals(tensor_list: List[torch.Tensor]) -> List[Union[float, int]]:\n",
        "    \"\"\"\n",
        "    Converts list of torch tensors to list of integers/floats. Fix for not having the functionality\n",
        "    which converts list of tensors to tensors\n",
        "    Args:\n",
        "        tensor_list: List of torch tensors\n",
        "    Returns:\n",
        "        literal_list: List of floats/integers\n",
        "    \"\"\"\n",
        "    literal_list = []\n",
        "\n",
        "    for tensor in tensor_list:\n",
        "        literal_list.append(tensor.item())\n",
        "\n",
        "    return literal_list\n",
        "\n",
        "\n",
        "def logmgf_exact_torch(q: float, priv_eps: float, l: int) -> float:\n",
        "    \"\"\"\n",
        "    Computes the logmgf value given q and privacy eps.\n",
        "    The bound used is the min of three terms. The first term is from\n",
        "    https://arxiv.org/pdf/1605.02065.pdf.\n",
        "    The second term is based on the fact that when event has probability (1-q) for\n",
        "    q close to zero, q can only change by exp(eps), which corresponds to a\n",
        "    much smaller multiplicative change in (1-q)\n",
        "    The third term comes directly from the privacy guarantee.\n",
        "    Args:\n",
        "        q: pr of non-optimal outcome\n",
        "        priv_eps: eps parameter for DP\n",
        "        l: moment to compute.\n",
        "    Returns:\n",
        "        Upper bound on logmgf\n",
        "    \"\"\"\n",
        "    if q < 0.5:\n",
        "        t_one = (1 - q) * math.pow((1 - q) / (1 - math.exp(priv_eps) * q), l)\n",
        "        t_two = q * math.exp(priv_eps * l)\n",
        "        t = t_one + t_two\n",
        "\n",
        "        try:\n",
        "            log_t = math.log(t)\n",
        "        except ValueError:\n",
        "            print(\"Got ValueError in math.log for values :\" + str((q, priv_eps, l, t)))\n",
        "            log_t = priv_eps * l\n",
        "    else:\n",
        "        log_t = priv_eps * l\n",
        "\n",
        "    return min(0.5 * priv_eps * priv_eps * l * (l + 1), log_t, priv_eps * l)\n",
        "\n",
        "\n",
        "def compute_q_noisy_max_torch(\n",
        "    counts: Union[List[torch.Tensor], torch.Tensor], noise_eps: float\n",
        ") -> float:\n",
        "    \"\"\"\n",
        "    Returns ~ Pr[outcome != winner].\n",
        "    Args:\n",
        "        counts: a list of scores\n",
        "        noise_eps: privacy parameter for noisy_max\n",
        "    Returns:\n",
        "        q: the probability that outcome is different from true winner.\n",
        "    \"\"\"\n",
        "    if type(counts) != torch.tensor:\n",
        "        counts = torch.tensor(tensors_to_literals(counts), dtype=torch.float)\n",
        "\n",
        "    _, winner = counts.max(0)\n",
        "    counts_normalized = noise_eps * (counts.clone().detach().type(torch.float) - counts[winner])\n",
        "\n",
        "    counts_normalized = tensors_to_literals(counts_normalized)\n",
        "    counts_rest = torch.tensor(\n",
        "        [counts_normalized[i] for i in range(len(counts)) if i != winner], dtype=torch.float\n",
        "    )\n",
        "    q = 0.0\n",
        "\n",
        "    index = 0\n",
        "    for c in counts_rest:\n",
        "        gap = -c\n",
        "        q += (gap + 2.0) / (4.0 * math.exp(gap))\n",
        "\n",
        "        index += 1\n",
        "\n",
        "    return min(q, 1.0 - (1.0 / len(counts)))\n",
        "\n",
        "\n",
        "def logmgf_from_counts_torch(\n",
        "    counts: Union[List[torch.Tensor], torch.Tensor], noise_eps: float, l: int\n",
        ") -> float:\n",
        "    \"\"\"\n",
        "    ReportNoisyMax mechanism with noise_eps with 2*noise_eps-DP\n",
        "    in our setting where one count can go up by one and another\n",
        "    can go down by 1.\n",
        "    Args:\n",
        "        counts: a list of scores\n",
        "        noise_eps: noise parameter used\n",
        "        l: moment whose sensitivity is being computed\n",
        "    Returns:\n",
        "        q: the probability that outcome is different from true winner\n",
        "    \"\"\"\n",
        "    q = compute_q_noisy_max_torch(counts, noise_eps)\n",
        "\n",
        "    return logmgf_exact_torch(q, 2.0 * noise_eps, l)\n",
        "\n",
        "\n",
        "def sens_at_k_torch(counts: torch.Tensor, noise_eps: float, l: int, k: int) -> float:\n",
        "    \"\"\"\n",
        "    Return sensitivity at distane k.\n",
        "    Args:\n",
        "        counts: tensor of scores\n",
        "        noise_eps: noise parameter used\n",
        "        l: moment whose sensitivity is being computed\n",
        "        k: distance\n",
        "    Returns:\n",
        "        sensitivity: at distance k\n",
        "    \"\"\"\n",
        "\n",
        "    counts_sorted = sorted(counts, reverse=True)\n",
        "\n",
        "    if 0.5 * noise_eps * l > 1:\n",
        "        print(f\"l of {l} is too large to compute sensitivity with noise epsilon {noise_eps}\")\n",
        "        return 0\n",
        "\n",
        "    if counts[0] < counts[1] + k:\n",
        "        return 0\n",
        "\n",
        "    counts_sorted[0] -= k\n",
        "    counts_sorted[1] += k\n",
        "    val = logmgf_from_counts_torch(counts_sorted, noise_eps, l)\n",
        "\n",
        "    counts_sorted[0] -= 1\n",
        "    counts_sorted[1] += 1\n",
        "    val_changed = logmgf_from_counts_torch(counts_sorted, noise_eps, l)\n",
        "\n",
        "    return val_changed - val\n",
        "\n",
        "\n",
        "def smooth_sens_torch(counts: torch.Tensor, noise_eps: float, l: int, beta: float) -> float:\n",
        "    \"\"\"Compute beta-smooth sensitivity.\n",
        "    Args:\n",
        "        counts: tensor of scores\n",
        "        noise_eps: noise parameter\n",
        "        l: moment of interest\n",
        "        beta: smoothness parameter\n",
        "    Returns:\n",
        "        smooth_sensitivity: a beta smooth upper bound\n",
        "    \"\"\"\n",
        "    k = 0\n",
        "    smoothed_sensitivity = sens_at_k_torch(counts, noise_eps, l, k)\n",
        "\n",
        "    while k < max(counts):\n",
        "        k += 1\n",
        "        sensitivity_at_k = sens_at_k_torch(counts, noise_eps, l, k)\n",
        "        smoothed_sensitivity = max(smoothed_sensitivity, math.exp(-beta * k) * sensitivity_at_k)\n",
        "\n",
        "        if sensitivity_at_k == 0.0:\n",
        "            break\n",
        "\n",
        "    return smoothed_sensitivity\n",
        "\n",
        "\n",
        "def perform_analysis_torch(\n",
        "    preds: torch.Tensor,\n",
        "    indices: torch.Tensor,\n",
        "    noise_eps: float = 0.1,\n",
        "    delta: float = 1e-5,\n",
        "    moments: int = 8,\n",
        "    beta: float = 0.09,\n",
        ") -> Tuple[float, float]:\n",
        "    \"\"\"\n",
        "    Performs PATE analysis on predictions from teachers and combined predictions for student.\n",
        "    Args:\n",
        "        preds: a torch tensor of dim (num_teachers x num_examples). Each value corresponds to the\n",
        "            index of the label which a teacher gave for a specific example\n",
        "        indices: a torch tensor of dim (num_examples) of aggregated examples which were aggregated\n",
        "            using the noisy max mechanism.\n",
        "        noise_eps: the epsilon level used to create the indices\n",
        "        delta: the desired level of delta\n",
        "        moments: the number of moments to track (see the paper)\n",
        "        beta: a smoothing parameter (see the paper)\n",
        "    Returns:\n",
        "        tuple: first value is the data dependent epsilon, then the data independent epsilon\n",
        "    \"\"\"\n",
        "    num_teachers, num_examples = preds.shape\n",
        "    _num_examples = indices.shape[0]\n",
        "\n",
        "    # Check that preds is shape (teachers x examples)\n",
        "    if num_examples != _num_examples:\n",
        "        raise ValueError(\"Check the shape of preds & indices.\")\n",
        "\n",
        "    labels = list(preds.flatten())\n",
        "    labels = {tensor.item() for tensor in labels}\n",
        "    num_labels = len(labels)\n",
        "\n",
        "    counts_mat = torch.zeros(num_examples, num_labels, dtype=torch.float32)\n",
        "\n",
        "    # Count number of teacher predictions of each label for each example\n",
        "    for i in range(num_examples):\n",
        "        for j in range(num_teachers):\n",
        "            counts_mat[i, int(preds[j, i])] += 1\n",
        "\n",
        "    l_list = 1 + torch.tensor(range(moments), dtype=torch.float)\n",
        "\n",
        "    total_log_mgf_nm = torch.tensor([0.0 for _ in l_list], dtype=torch.float)\n",
        "    total_ss_nm = torch.tensor([0.0 for _ in l_list], dtype=torch.float)\n",
        "\n",
        "    for i in indices:\n",
        "        total_log_mgf_nm += torch.tensor(\n",
        "            [logmgf_from_counts_torch(counts_mat[i].clone(), noise_eps, l) for l in l_list]\n",
        "        )\n",
        "\n",
        "        total_ss_nm += torch.tensor(\n",
        "            [smooth_sens_torch(counts_mat[i].clone(), noise_eps, l, beta) for l in l_list],\n",
        "            dtype=torch.float,\n",
        "        )\n",
        "\n",
        "    eps_list_nm = (total_log_mgf_nm - math.log(delta)) / l_list\n",
        "    ss_eps = 2.0 * beta * math.log(1 / delta)\n",
        "\n",
        "    if min(eps_list_nm) == eps_list_nm[-1]:\n",
        "        print(\n",
        "            \"Warning: May not have used enough values of l. Increase 'moments' variable \"\n",
        "            \"and run again.\"\n",
        "        )\n",
        "\n",
        "    # Computer epsilon when not taking teacher quorum into account\n",
        "    data_ind_log_mgf = torch.tensor([0.0 for _ in l_list])\n",
        "    data_ind_log_mgf += num_examples * torch.tensor(\n",
        "        tensors_to_literals([logmgf_exact_torch(1.0, 2.0 * noise_eps, l) for l in l_list])\n",
        "    )\n",
        "\n",
        "    data_ind_eps_list = (data_ind_log_mgf - math.log(delta)) / l_list\n",
        "\n",
        "    return min(eps_list_nm), min(data_ind_eps_list)"
      ],
      "metadata": {
        "id": "ylnkOcyAVeH7"
      },
      "execution_count": 381,
      "outputs": []
    },
    {
      "cell_type": "code",
      "source": [
        "data_dep_eps, data_ind_eps = perform_analysis(teacher_preds=preds, indices=student_labels, noise_eps=epsilon, delta=1e-5)\n",
        "print(\"Data Independent Epsilon:\", data_ind_eps) \n",
        "print(\"Data Dependent Epsilon:\", data_dep_eps) #Is the Epsilon value obtained by looking at how much teacher agree with each other"
      ],
      "metadata": {
        "colab": {
          "base_uri": "https://localhost:8080/",
          "height": 0
        },
        "id": "TPh8fwKqhX9_",
        "outputId": "2043bf64-7ca4-42f4-cc19-b28d5a93be68"
      },
      "execution_count": 382,
      "outputs": [
        {
          "output_type": "stream",
          "name": "stdout",
          "text": [
            "Data Independent Epsilon: 161.51292546497024\n",
            "Data Dependent Epsilon: 161.51292546497024\n"
          ]
        }
      ]
    }
  ]
}